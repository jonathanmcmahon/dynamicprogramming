{
 "cells": [
  {
   "cell_type": "markdown",
   "metadata": {},
   "source": [
    "# Longest Common Substring (DPV 6.8)#\n",
    "\n",
    "This problem is from *Algorithms* by Dasgupta, Papadimitriou, and Vazirani (DPV).\n",
    "\n",
    "### The Problem ###\n",
    "\n",
    "Given two strings $S$ and $R$, we wish to find the length of their longest common substring.\n",
    "\n",
    "***Example:***\n",
    "\n",
    "$S$ = \"ABCDEFG\"\n",
    "\n",
    "$R$ = \"ZBCDXYE\"\n",
    "\n",
    "The longest common substring of $S$ and $R$ is \"BCD\" and thus the length of the LCS is 3.\n"
   ]
  },
  {
   "cell_type": "markdown",
   "metadata": {},
   "source": [
    "### Define the subproblem in words ###\n",
    "\n",
    "Each table entry $T(i,j)$ represents the length of the longest common suffix (LCSuf) for $S_0...S_i$ and $R_0...R_j$. \n",
    "\n",
    "For example, \"MMA\" and \"MMAM\" have a LCSuf of 0, but \"MMA\" and \"GAMMA\" have an LCSuf of 3."
   ]
  },
  {
   "cell_type": "markdown",
   "metadata": {},
   "source": [
    "### Find the recurrence relation ###\n",
    "\n",
    "\n",
    "$$\n",
    "T(i, j) = \\left\\{\\begin{aligned}\n",
    "&T(i-1, j-1) + 1 && if S_i = R_j\\\\\n",
    "&0 && otherwise \\\\\n",
    "\\end{aligned}\n",
    "\\right.\n",
    "$$\n"
   ]
  },
  {
   "cell_type": "code",
   "execution_count": 4,
   "metadata": {},
   "outputs": [
    {
     "name": "stdout",
     "output_type": "stream",
     "text": [
      "First string:\tGAMMAMUOMICRON\n",
      "Second string:\tBETAGAMMAPHI\n",
      "Table T: \n",
      "[[ 0.  0.  0.  0.  1.  0.  0.  0.  0.  0.  0.  0.]\n",
      " [ 0.  0.  0.  1.  0.  2.  0.  0.  1.  0.  0.  0.]\n",
      " [ 0.  0.  0.  0.  0.  0.  3.  1.  0.  0.  0.  0.]\n",
      " [ 0.  0.  0.  0.  0.  0.  1.  4.  0.  0.  0.  0.]\n",
      " [ 0.  0.  0.  1.  0.  1.  0.  0.  5.  0.  0.  0.]\n",
      " [ 0.  0.  0.  0.  0.  0.  2.  1.  0.  0.  0.  0.]\n",
      " [ 0.  0.  0.  0.  0.  0.  0.  0.  0.  0.  0.  0.]\n",
      " [ 0.  0.  0.  0.  0.  0.  0.  0.  0.  0.  0.  0.]\n",
      " [ 0.  0.  0.  0.  0.  0.  1.  1.  0.  0.  0.  0.]\n",
      " [ 0.  0.  0.  0.  0.  0.  0.  0.  0.  0.  0.  1.]\n",
      " [ 0.  0.  0.  0.  0.  0.  0.  0.  0.  0.  0.  0.]\n",
      " [ 0.  0.  0.  0.  0.  0.  0.  0.  0.  0.  0.  0.]\n",
      " [ 0.  0.  0.  0.  0.  0.  0.  0.  0.  0.  0.  0.]\n",
      " [ 0.  0.  0.  0.  0.  0.  0.  0.  0.  0.  0.  0.]]\n",
      "Length of longest common substring: 5\n"
     ]
    }
   ],
   "source": [
    "import numpy as np\n",
    "\n",
    "\n",
    "def longest_common_substring(string1, string2):\n",
    "    \"\"\"Return the length of the longest common substring of two strings.\"\"\"\n",
    "    n = len(string1)\n",
    "    m = len(string2)\n",
    "\n",
    "    # We need an n x m table. (Also, our algorithm will run in O(nm) time.)\n",
    "    table = np.zeros((n, m))\n",
    "\n",
    "    # Each table entry (for example, table[i,j]) represents the length of the longest common suffix\n",
    "    # (LCSuf) for string1[0,i] and string2[0,j]. So, for example, \"MMA\" and \"MMAM\" have a LCSuf of 0,\n",
    "    # but \"MMA\" and \"GAMMA\" have an LCSuf of 3.\n",
    "\n",
    "    for i in range(n):\n",
    "        for j in range(m):\n",
    "            if X[i] == Y[j]:\n",
    "                # Substrings of length 1\n",
    "                if i == 0 or j == 0:\n",
    "                    table[i][j] = 1\n",
    "                # Bigger substrings\n",
    "                else:\n",
    "                    table[i][j] = table[i-1][j-1] + 1\n",
    "            else:\n",
    "                table[i][j] = 0\n",
    "\n",
    "    print(\"Table T: \\n\" + str(table))\n",
    "    return np.max(table)\n",
    "\n",
    "\n",
    "# Our two strings to compare\n",
    "S = \"GAMMAMUOMICRON\"\n",
    "R = \"BETAGAMMAPHI\"\n",
    "\n",
    "print(\"First string:\\t%s\" % X)\n",
    "print(\"Second string:\\t%s\" % Y)\n",
    "print(\"Length of longest common substring: %d\" % longest_common_substring(X, Y))"
   ]
  },
  {
   "cell_type": "markdown",
   "metadata": {},
   "source": [
    "### Step 4: Analyze runtime complexity ###\n",
    "\n",
    "Our algorithm above contains a nested for loop that compares each character of $S$ to each character of $R$. \n",
    "\n",
    "$n$ is the length of $S$, and $m$ the length of $R$. The runtime complexity is:\n",
    "\n",
    "$$O(nm)$$"
   ]
  }
 ],
 "metadata": {
  "kernelspec": {
   "display_name": "Python 3.6",
   "language": "python",
   "name": "python_3.6"
  },
  "language_info": {
   "codemirror_mode": {
    "name": "ipython",
    "version": 3
   },
   "file_extension": ".py",
   "mimetype": "text/x-python",
   "name": "python",
   "nbconvert_exporter": "python",
   "pygments_lexer": "ipython3",
   "version": "3.6.3"
  }
 },
 "nbformat": 4,
 "nbformat_minor": 2
}
