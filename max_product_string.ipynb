{
 "cells": [
  {
   "cell_type": "markdown",
   "metadata": {},
   "source": [
    "# Max Product of String #\n",
    "\n",
    "### The Problem: ###\n",
    "\n",
    "\n",
    "The input to the problem is a string: \n",
    "\n",
    "$$Z=z_{1}z_{2} ... z_{n}$$ \n",
    "\n",
    "where each $z_{i} \\in {1,2, . . . ,9}$ and an integer $k$ where $0 \\le k < n$. \n",
    "\n",
    "An example string is $Z=8473817$, which is of length $n=7$. \n",
    "\n",
    "We want to insert $k$ multiplication operators ($\\times$) into the string so that the mathematical result of the expression is the largest possible. There are $n - 1$ possible locations for the operators; namely, after the *i*th character where $i = 1..n−1$. \n",
    "\n",
    "For example, for input $Z=21322$ and $k=2$, then one possible way to insert the $\\times$ operators is: \n",
    "\n",
    "$$2 \\times 1 \\times 322 = 644.$$ \n",
    "\n",
    "Another possibility is: \n",
    "\n",
    "$$21 \\times 3 \\times 22 = 1386.$$ \n",
    "\n",
    "We wish to write a dynamic programming solution to output the maximum product obtainable from inserting exactly $k$ multiplication operators into the string. We assume that all the multiplication operations in  algorithm take $O(1)$ time."
   ]
  },
  {
   "cell_type": "markdown",
   "metadata": {},
   "source": [
    "### Step 1: Define subproblem in words ###\n",
    "\n",
    "$M(i, j) =$ maximum product obtainable from inserting exactly $i$ multiplication operations on the substring $z_{1}...z_{j}$."
   ]
  },
  {
   "cell_type": "markdown",
   "metadata": {},
   "source": [
    "### Step 2: Find the recurrence relation ###\n",
    "\n",
    "$$\n",
    "M(i, j) = \\left\\{\\begin{aligned}\n",
    "&z_{0}...z_{j} &&: i = 1\\\\\n",
    "&\\max(M(i-1, t) \\times z_{t}...z_{j}) &&: i > 1, j \\ge i, t \\le j\\\\\n",
    "&0 &&: otherwise\n",
    "\\end{aligned}\n",
    "\\right.\n",
    "$$"
   ]
  },
  {
   "cell_type": "markdown",
   "metadata": {},
   "source": [
    "### Step 3: Translate into code ###"
   ]
  },
  {
   "cell_type": "code",
   "execution_count": 23,
   "metadata": {},
   "outputs": [],
   "source": [
    "import numpy as np\n",
    "\n",
    "# This is our example string\n",
    "Z = \"54321\"\n",
    "\n",
    "# This is how many multiplication operators we must insert\n",
    "K = 1\n",
    "\n",
    "# It is possible to insert a maximum of |Z|-1 multiplication operators\n",
    "assert K < len(Z)\n",
    "\n",
    "# Initialize our table\n",
    "M = np.zeros((len(Z), len(Z)), dtype=int)\n",
    "\n",
    "# Iterate over rows and columns (O(n^2))\n",
    "for row in range(M.shape[0]):\n",
    "    for col in range(M.shape[1]):\n",
    "        # We only look at cells along the main diagonal and above\n",
    "        if col >= row:\n",
    "            if row == 0:\n",
    "                M[row, col] = int(Z[0:col+1])\n",
    "            else:\n",
    "                for i in range(0,col):\n",
    "                    t = M[row-1, i] * int(Z[i+1:col+1])\n",
    "                    if t > M[row,col]:\n",
    "                        M[row,col] = t"
   ]
  },
  {
   "cell_type": "markdown",
   "metadata": {},
   "source": [
    "Now we can view our completed table $M$, where each cell (i, j) contains the maximum product obtainable from inserting exactly $i$ multiplication operations on the substring $z_{1}...z_{j}$:"
   ]
  },
  {
   "cell_type": "code",
   "execution_count": 24,
   "metadata": {},
   "outputs": [
    {
     "name": "stdout",
     "output_type": "stream",
     "text": [
      "[[    5    54   543  5432 54321]\n",
      " [    0    20   215  2160 21605]\n",
      " [    0     0    60   640  6420]\n",
      " [    0     0     0   120  1260]\n",
      " [    0     0     0     0   120]]\n"
     ]
    }
   ],
   "source": [
    "print(M)"
   ]
  },
  {
   "cell_type": "markdown",
   "metadata": {},
   "source": [
    "And our goal is to find the maximum product obtainable by inserting exactly $k$ operators into the string, so we find the max value in row $k$:"
   ]
  },
  {
   "cell_type": "code",
   "execution_count": 25,
   "metadata": {},
   "outputs": [
    {
     "name": "stdout",
     "output_type": "stream",
     "text": [
      "21605\n"
     ]
    }
   ],
   "source": [
    "print(np.max(M[K]))"
   ]
  },
  {
   "cell_type": "markdown",
   "metadata": {},
   "source": [
    "### Step 4: Runtime Analysis ###"
   ]
  },
  {
   "cell_type": "markdown",
   "metadata": {},
   "source": [
    "The input is the string $Z$, and the input size is thus $|Z|$ (the number of characters in $Z$).\n",
    "\n",
    "Regardless of the value of $K$, we iterate over each row and column in our table $M$, which table is of dimensions $|Z|$ $\\cdot$ $|Z|$. This operation is $O(n^2)$.\n",
    "\n",
    "At the end, we iterate over each cell in row $K$, which takes $O(n)$.\n",
    "\n",
    "The runtime is dominated by the for loop that builds the table, and therefore the algorithm's runtime is:\n",
    "\n",
    "$$O(n^2).$$"
   ]
  }
 ],
 "metadata": {
  "kernelspec": {
   "display_name": "Python 3.6",
   "language": "python",
   "name": "python_3.6"
  },
  "language_info": {
   "codemirror_mode": {
    "name": "ipython",
    "version": 3
   },
   "file_extension": ".py",
   "mimetype": "text/x-python",
   "name": "python",
   "nbconvert_exporter": "python",
   "pygments_lexer": "ipython3",
   "version": "3.6.3"
  }
 },
 "nbformat": 4,
 "nbformat_minor": 2
}
